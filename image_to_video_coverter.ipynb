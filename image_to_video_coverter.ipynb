{
 "cells": [
  {
   "cell_type": "code",
   "execution_count": 7,
   "metadata": {},
   "outputs": [],
   "source": [
    "import cv2\n",
    "import os\n",
    "\n",
    "def frames_to_video(input_folder, output_file, fps=30):\n",
    "    # Get list of all frames in the folder\n",
    "    frames = [f for f in os.listdir(input_folder) if f.endswith('.jpeg')]\n",
    "    frames.sort()  # Ensure frames are in the correct order\n",
    "\n",
    "    # Read the first frame to get the dimensions\n",
    "    frame_path = os.path.join(input_folder, frames[0])\n",
    "    frame = cv2.imread(frame_path)\n",
    "    height, width, layers = frame.shape\n",
    "\n",
    "    # Define the codec and create VideoWriter object\n",
    "    fourcc = cv2.VideoWriter_fourcc(*'mp4v')\n",
    "    video = cv2.VideoWriter(output_file, fourcc, fps, (width, height))\n",
    "\n",
    "    for frame_name in frames:\n",
    "        frame_path = os.path.join(input_folder, frame_name)\n",
    "        frame = cv2.imread(frame_path)\n",
    "        video.write(frame)\n",
    "\n",
    "    video.release()\n",
    "\n",
    "# Convert frames to videos\n",
    "frames_to_video('D:/Projects/Hackenza/233_im-20250321T165048Z-001/233_im', 'output_233_im.mp4')\n",
    "frames_to_video('D:/Projects/Hackenza/235_im-20250321T165049Z-001/235_im', 'output_235_im.mp4')"
   ]
  },
  {
   "cell_type": "code",
   "execution_count": null,
   "metadata": {},
   "outputs": [],
   "source": []
  },
  {
   "cell_type": "code",
   "execution_count": null,
   "metadata": {},
   "outputs": [],
   "source": []
  }
 ],
 "metadata": {
  "kernelspec": {
   "display_name": "base",
   "language": "python",
   "name": "python3"
  },
  "language_info": {
   "codemirror_mode": {
    "name": "ipython",
    "version": 3
   },
   "file_extension": ".py",
   "mimetype": "text/x-python",
   "name": "python",
   "nbconvert_exporter": "python",
   "pygments_lexer": "ipython3",
   "version": "3.12.4"
  }
 },
 "nbformat": 4,
 "nbformat_minor": 2
}
